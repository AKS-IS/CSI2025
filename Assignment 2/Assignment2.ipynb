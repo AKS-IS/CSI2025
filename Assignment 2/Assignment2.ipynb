{
  "nbformat": 4,
  "nbformat_minor": 0,
  "metadata": {
    "colab": {
      "provenance": []
    },
    "kernelspec": {
      "name": "python3",
      "display_name": "Python 3"
    },
    "language_info": {
      "name": "python"
    }
  },
  "cells": [
    {
      "cell_type": "code",
      "execution_count": 1,
      "metadata": {
        "colab": {
          "base_uri": "https://localhost:8080/"
        },
        "id": "UaLfyBZMH6en",
        "outputId": "e8bde64c-7a07-4afa-d40b-22a9639f6c02"
      },
      "outputs": [
        {
          "output_type": "stream",
          "name": "stdout",
          "text": [
            "Original list:\n",
            "10 -> 20 -> 30 -> 40 -> 50 -> None\n",
            "Deleting node at position 3: 30\n",
            "\n",
            "List after deleting 3rd node:\n",
            "10 -> 20 -> 40 -> 50 -> None\n",
            "\n",
            "Error: Index out of range.\n",
            "\n",
            "Error: Cannot delete from an empty list.\n"
          ]
        }
      ],
      "source": [
        "class Node:\n",
        "    def __init__(self, data):\n",
        "        self.data = data\n",
        "        self.next = None\n",
        "\n",
        "class LinkedList:\n",
        "    def __init__(self):\n",
        "        self.head = None\n",
        "\n",
        "    def append(self, data):\n",
        "        new_node = Node(data)\n",
        "        if not self.head:\n",
        "            self.head = new_node\n",
        "            return\n",
        "        current = self.head\n",
        "        while current.next:\n",
        "            current = current.next\n",
        "        current.next = new_node\n",
        "\n",
        "    def print_list(self):\n",
        "        current = self.head\n",
        "        if not current:\n",
        "            print(\"List is empty.\")\n",
        "            return\n",
        "        while current:\n",
        "            print(current.data, end=\" -> \")\n",
        "            current = current.next\n",
        "        print(\"None\")\n",
        "\n",
        "    def delete_nth_node(self, n):\n",
        "        if not self.head:\n",
        "            raise Exception(\"Cannot delete from an empty list.\")\n",
        "        if n <= 0:\n",
        "            raise IndexError(\"Index must be a positive integer.\")\n",
        "        if n == 1:\n",
        "            print(f\"Deleting node at position {n}: {self.head.data}\")\n",
        "            self.head = self.head.next\n",
        "            return\n",
        "        current = self.head\n",
        "        prev = None\n",
        "        count = 1\n",
        "        while current and count < n:\n",
        "            prev = current\n",
        "            current = current.next\n",
        "            count += 1\n",
        "        if not current:\n",
        "            raise IndexError(\"Index out of range.\")\n",
        "        print(f\"Deleting node at position {n}: {current.data}\")\n",
        "        prev.next = current.next\n",
        "\n",
        "if __name__ == \"__main__\":\n",
        "    ll = LinkedList()\n",
        "    for value in [10, 20, 30, 40, 50]:\n",
        "        ll.append(value)\n",
        "    print(\"Original list:\")\n",
        "    ll.print_list()\n",
        "    try:\n",
        "        ll.delete_nth_node(3)\n",
        "    except Exception as e:\n",
        "        print(\"Error:\", e)\n",
        "    print(\"\\nList after deleting 3rd node:\")\n",
        "    ll.print_list()\n",
        "    try:\n",
        "        ll.delete_nth_node(10)\n",
        "    except Exception as e:\n",
        "        print(\"\\nError:\", e)\n",
        "    try:\n",
        "        empty_list = LinkedList()\n",
        "        empty_list.delete_nth_node(1)\n",
        "    except Exception as e:\n",
        "        print(\"\\nError:\", e)\n"
      ]
    }
  ]
}